{
 "cells": [
  {
   "cell_type": "code",
   "execution_count": 1,
   "id": "82ff2a80",
   "metadata": {
    "scrolled": true
   },
   "outputs": [
    {
     "data": {
      "text/html": [
       "<div>\n",
       "<style scoped>\n",
       "    .dataframe tbody tr th:only-of-type {\n",
       "        vertical-align: middle;\n",
       "    }\n",
       "\n",
       "    .dataframe tbody tr th {\n",
       "        vertical-align: top;\n",
       "    }\n",
       "\n",
       "    .dataframe thead th {\n",
       "        text-align: right;\n",
       "    }\n",
       "</style>\n",
       "<table border=\"1\" class=\"dataframe\">\n",
       "  <thead>\n",
       "    <tr style=\"text-align: right;\">\n",
       "      <th></th>\n",
       "      <th>Entry_ID</th>\n",
       "      <th>Entry_Date</th>\n",
       "      <th>User_ID</th>\n",
       "      <th>Sport</th>\n",
       "      <th>Entry_Amount</th>\n",
       "    </tr>\n",
       "  </thead>\n",
       "  <tbody>\n",
       "    <tr>\n",
       "      <th>0</th>\n",
       "      <td>1</td>\n",
       "      <td>2019-01-01</td>\n",
       "      <td>da609f6c-cdbd-4fe7-98a3-223b1eaa04cb</td>\n",
       "      <td>NCAAF</td>\n",
       "      <td>308</td>\n",
       "    </tr>\n",
       "    <tr>\n",
       "      <th>1</th>\n",
       "      <td>2</td>\n",
       "      <td>2019-01-01</td>\n",
       "      <td>00899c99-fa27-49d7-846b-5ae0a3186458</td>\n",
       "      <td>NCAAF</td>\n",
       "      <td>958</td>\n",
       "    </tr>\n",
       "    <tr>\n",
       "      <th>2</th>\n",
       "      <td>3</td>\n",
       "      <td>2019-01-01</td>\n",
       "      <td>8b68515b-0f1a-4330-ad80-d83ecc94a921</td>\n",
       "      <td>NCAAF</td>\n",
       "      <td>868</td>\n",
       "    </tr>\n",
       "    <tr>\n",
       "      <th>3</th>\n",
       "      <td>4</td>\n",
       "      <td>2019-01-01</td>\n",
       "      <td>ba95d550-5404-47b8-ad59-c0799acddf4a</td>\n",
       "      <td>NCAAF</td>\n",
       "      <td>964</td>\n",
       "    </tr>\n",
       "    <tr>\n",
       "      <th>4</th>\n",
       "      <td>5</td>\n",
       "      <td>2019-01-01</td>\n",
       "      <td>b7adc6fe-ed61-4e2f-976f-ceb3dedf9cec</td>\n",
       "      <td>NCAAF</td>\n",
       "      <td>864</td>\n",
       "    </tr>\n",
       "  </tbody>\n",
       "</table>\n",
       "</div>"
      ],
      "text/plain": [
       "   Entry_ID Entry_Date                               User_ID  Sport  \\\n",
       "0         1 2019-01-01  da609f6c-cdbd-4fe7-98a3-223b1eaa04cb  NCAAF   \n",
       "1         2 2019-01-01  00899c99-fa27-49d7-846b-5ae0a3186458  NCAAF   \n",
       "2         3 2019-01-01  8b68515b-0f1a-4330-ad80-d83ecc94a921  NCAAF   \n",
       "3         4 2019-01-01  ba95d550-5404-47b8-ad59-c0799acddf4a  NCAAF   \n",
       "4         5 2019-01-01  b7adc6fe-ed61-4e2f-976f-ceb3dedf9cec  NCAAF   \n",
       "\n",
       "   Entry_Amount  \n",
       "0           308  \n",
       "1           958  \n",
       "2           868  \n",
       "3           964  \n",
       "4           864  "
      ]
     },
     "execution_count": 1,
     "metadata": {},
     "output_type": "execute_result"
    }
   ],
   "source": [
    "import pandas as pd\n",
    "import numpy as np\n",
    "\n",
    "\n",
    "excel_file_path = 'C:/Users/Home/Bets_By_Bob/Tableau_data.xlsx'\n",
    "\n",
    "# Read Excel file\n",
    "df = pd.read_excel(excel_file_path)\n",
    "\n",
    "# Display first few rows\n",
    "df.head()"
   ]
  },
  {
   "cell_type": "code",
   "execution_count": 10,
   "id": "e0495d1a",
   "metadata": {},
   "outputs": [
    {
     "name": "stdout",
     "output_type": "stream",
     "text": [
      "99996\n"
     ]
    }
   ],
   "source": [
    "num_rows = df.shape[0]\n",
    "print(num_rows)\n"
   ]
  },
  {
   "cell_type": "code",
   "execution_count": 2,
   "id": "dc1e5fb0",
   "metadata": {},
   "outputs": [
    {
     "name": "stdout",
     "output_type": "stream",
     "text": [
      "Entry_ID        0\n",
      "Entry_Date      0\n",
      "User_ID         0\n",
      "Sport           0\n",
      "Entry_Amount    0\n",
      "dtype: int64\n"
     ]
    }
   ],
   "source": [
    "# Check for missing values\n",
    "print(df.isnull().sum())"
   ]
  },
  {
   "cell_type": "code",
   "execution_count": 3,
   "id": "f3f9ab7c",
   "metadata": {},
   "outputs": [
    {
     "name": "stdout",
     "output_type": "stream",
     "text": [
      "Entry_ID                 int64\n",
      "Entry_Date      datetime64[ns]\n",
      "User_ID                 object\n",
      "Sport                   object\n",
      "Entry_Amount             int64\n",
      "dtype: object\n"
     ]
    }
   ],
   "source": [
    "# Check data types\n",
    "print(df.dtypes)"
   ]
  },
  {
   "cell_type": "code",
   "execution_count": 4,
   "id": "d0f2ad23",
   "metadata": {},
   "outputs": [],
   "source": [
    "# Convert Entry_Amount to float\n",
    "df['Entry_Amount'] = df['Entry_Amount'].astype('float')\n"
   ]
  },
  {
   "cell_type": "code",
   "execution_count": 5,
   "id": "af6a1254",
   "metadata": {},
   "outputs": [
    {
     "name": "stdout",
     "output_type": "stream",
     "text": [
      "['NCAAF' 'NBA' 'NHL' 'PGA' 'CBB' 'NFL' 'TENNIS' '[duplicate]Tennis' 'MMA'\n",
      " 'EPL' 'CELEBGOLF' 'AAF' 'RISING_STARS' 'oldCSGO' 'MLB' 'MLS' 'SMITE'\n",
      " 'Duplicate' 'WNBA' 'WWC' 'CFL' 'CWS']\n"
     ]
    }
   ],
   "source": [
    "print(df['Sport'].unique())"
   ]
  },
  {
   "cell_type": "code",
   "execution_count": 6,
   "id": "7e463b53",
   "metadata": {},
   "outputs": [],
   "source": [
    "df['Sport'].replace({'[duplicate]Tennis': 'TENNIS', 'Duplicate': np.nan}, inplace=True)\n"
   ]
  },
  {
   "cell_type": "code",
   "execution_count": 7,
   "id": "44f52219",
   "metadata": {},
   "outputs": [
    {
     "name": "stdout",
     "output_type": "stream",
     "text": [
      "['NCAAF' 'NBA' 'NHL' 'PGA' 'CBB' 'NFL' 'TENNIS' 'MMA' 'EPL' 'CELEBGOLF'\n",
      " 'AAF' 'RISING_STARS' 'oldCSGO' 'MLB' 'MLS' 'SMITE' nan 'WNBA' 'WWC' 'CFL'\n",
      " 'CWS']\n"
     ]
    }
   ],
   "source": [
    "print(df['Sport'].unique())"
   ]
  },
  {
   "cell_type": "code",
   "execution_count": 8,
   "id": "9907be61",
   "metadata": {},
   "outputs": [],
   "source": [
    "df.dropna(inplace=True)\n"
   ]
  },
  {
   "cell_type": "code",
   "execution_count": 9,
   "id": "19612578",
   "metadata": {
    "scrolled": true
   },
   "outputs": [
    {
     "name": "stdout",
     "output_type": "stream",
     "text": [
      "['NCAAF' 'NBA' 'NHL' 'PGA' 'CBB' 'NFL' 'TENNIS' 'MMA' 'EPL' 'CELEBGOLF'\n",
      " 'AAF' 'RISING_STARS' 'oldCSGO' 'MLB' 'MLS' 'SMITE' 'WNBA' 'WWC' 'CFL'\n",
      " 'CWS']\n"
     ]
    }
   ],
   "source": [
    "print(df['Sport'].unique())"
   ]
  },
  {
   "cell_type": "code",
   "execution_count": 11,
   "id": "cdc785dd",
   "metadata": {},
   "outputs": [
    {
     "name": "stdout",
     "output_type": "stream",
     "text": [
      "99996\n"
     ]
    }
   ],
   "source": [
    "num_rows = df.shape[0]\n",
    "print(num_rows)\n"
   ]
  },
  {
   "cell_type": "code",
   "execution_count": 12,
   "id": "8f0cfa34",
   "metadata": {},
   "outputs": [
    {
     "name": "stdout",
     "output_type": "stream",
     "text": [
      "['da609f6c-cdbd-4fe7-98a3-223b1eaa04cb'\n",
      " '00899c99-fa27-49d7-846b-5ae0a3186458'\n",
      " '8b68515b-0f1a-4330-ad80-d83ecc94a921' ...\n",
      " '14492462-f306-4361-a6d0-c0e52c37760b'\n",
      " '1b0b0ca2-2ddb-4f22-9d76-65c93fa59313'\n",
      " 'b3737180-de1a-463c-8ae8-b49f889f74c9']\n"
     ]
    }
   ],
   "source": [
    "print(df['User_ID'].unique())"
   ]
  },
  {
   "cell_type": "code",
   "execution_count": 13,
   "id": "07f778be",
   "metadata": {},
   "outputs": [],
   "source": [
    "# Convert all strings in Sport and User_ID to lowercase\n",
    "df['Sport'] = df['Sport'].str.lower()\n",
    "df['User_ID'] = df['User_ID'].str.lower()\n"
   ]
  },
  {
   "cell_type": "code",
   "execution_count": 14,
   "id": "fadf4afe",
   "metadata": {},
   "outputs": [
    {
     "data": {
      "text/html": [
       "<div>\n",
       "<style scoped>\n",
       "    .dataframe tbody tr th:only-of-type {\n",
       "        vertical-align: middle;\n",
       "    }\n",
       "\n",
       "    .dataframe tbody tr th {\n",
       "        vertical-align: top;\n",
       "    }\n",
       "\n",
       "    .dataframe thead th {\n",
       "        text-align: right;\n",
       "    }\n",
       "</style>\n",
       "<table border=\"1\" class=\"dataframe\">\n",
       "  <thead>\n",
       "    <tr style=\"text-align: right;\">\n",
       "      <th></th>\n",
       "      <th>Entry_ID</th>\n",
       "      <th>Entry_Date</th>\n",
       "      <th>User_ID</th>\n",
       "      <th>Sport</th>\n",
       "      <th>Entry_Amount</th>\n",
       "    </tr>\n",
       "  </thead>\n",
       "  <tbody>\n",
       "    <tr>\n",
       "      <th>0</th>\n",
       "      <td>1</td>\n",
       "      <td>2019-01-01</td>\n",
       "      <td>da609f6c-cdbd-4fe7-98a3-223b1eaa04cb</td>\n",
       "      <td>ncaaf</td>\n",
       "      <td>308.0</td>\n",
       "    </tr>\n",
       "    <tr>\n",
       "      <th>1</th>\n",
       "      <td>2</td>\n",
       "      <td>2019-01-01</td>\n",
       "      <td>00899c99-fa27-49d7-846b-5ae0a3186458</td>\n",
       "      <td>ncaaf</td>\n",
       "      <td>958.0</td>\n",
       "    </tr>\n",
       "    <tr>\n",
       "      <th>2</th>\n",
       "      <td>3</td>\n",
       "      <td>2019-01-01</td>\n",
       "      <td>8b68515b-0f1a-4330-ad80-d83ecc94a921</td>\n",
       "      <td>ncaaf</td>\n",
       "      <td>868.0</td>\n",
       "    </tr>\n",
       "    <tr>\n",
       "      <th>3</th>\n",
       "      <td>4</td>\n",
       "      <td>2019-01-01</td>\n",
       "      <td>ba95d550-5404-47b8-ad59-c0799acddf4a</td>\n",
       "      <td>ncaaf</td>\n",
       "      <td>964.0</td>\n",
       "    </tr>\n",
       "    <tr>\n",
       "      <th>4</th>\n",
       "      <td>5</td>\n",
       "      <td>2019-01-01</td>\n",
       "      <td>b7adc6fe-ed61-4e2f-976f-ceb3dedf9cec</td>\n",
       "      <td>ncaaf</td>\n",
       "      <td>864.0</td>\n",
       "    </tr>\n",
       "  </tbody>\n",
       "</table>\n",
       "</div>"
      ],
      "text/plain": [
       "   Entry_ID Entry_Date                               User_ID  Sport  \\\n",
       "0         1 2019-01-01  da609f6c-cdbd-4fe7-98a3-223b1eaa04cb  ncaaf   \n",
       "1         2 2019-01-01  00899c99-fa27-49d7-846b-5ae0a3186458  ncaaf   \n",
       "2         3 2019-01-01  8b68515b-0f1a-4330-ad80-d83ecc94a921  ncaaf   \n",
       "3         4 2019-01-01  ba95d550-5404-47b8-ad59-c0799acddf4a  ncaaf   \n",
       "4         5 2019-01-01  b7adc6fe-ed61-4e2f-976f-ceb3dedf9cec  ncaaf   \n",
       "\n",
       "   Entry_Amount  \n",
       "0         308.0  \n",
       "1         958.0  \n",
       "2         868.0  \n",
       "3         964.0  \n",
       "4         864.0  "
      ]
     },
     "execution_count": 14,
     "metadata": {},
     "output_type": "execute_result"
    }
   ],
   "source": [
    "df.head()"
   ]
  },
  {
   "cell_type": "code",
   "execution_count": 15,
   "id": "342e68cc",
   "metadata": {},
   "outputs": [
    {
     "name": "stdout",
     "output_type": "stream",
     "text": [
      "Entry_ID                 int64\n",
      "Entry_Date      datetime64[ns]\n",
      "User_ID                 object\n",
      "Sport                   object\n",
      "Entry_Amount           float64\n",
      "dtype: object\n"
     ]
    }
   ],
   "source": [
    "# Check data types\n",
    "print(df.dtypes)"
   ]
  },
  {
   "cell_type": "code",
   "execution_count": 16,
   "id": "5e439642",
   "metadata": {},
   "outputs": [
    {
     "name": "stdout",
     "output_type": "stream",
     "text": [
      "0\n"
     ]
    }
   ],
   "source": [
    "# Check for duplicates\n",
    "print(df.duplicated(subset='Entry_ID').sum())"
   ]
  },
  {
   "cell_type": "code",
   "execution_count": 17,
   "id": "36c8c7c9",
   "metadata": {},
   "outputs": [
    {
     "data": {
      "text/plain": [
       "<AxesSubplot: xlabel='Entry_Amount'>"
      ]
     },
     "execution_count": 17,
     "metadata": {},
     "output_type": "execute_result"
    },
    {
     "data": {
      "image/png": "[encoded data removed]",
      "text/plain": [
       "<Figure size 640x480 with 1 Axes>"
      ]
     },
     "metadata": {},
     "output_type": "display_data"
    }
   ],
   "source": [
    "# Check for outliers in Entry_Amount\n",
    "import seaborn as sns\n",
    "sns.boxplot(x=df['Entry_Amount'])"
   ]
  },
  {
   "cell_type": "code",
   "execution_count": 18,
   "id": "e6463e35",
   "metadata": {},
   "outputs": [
    {
     "name": "stdout",
     "output_type": "stream",
     "text": [
      "['ncaaf' 'nba' 'nhl' 'pga' 'cbb' 'nfl' 'tennis' 'mma' 'epl' 'celebgolf'\n",
      " 'aaf' 'rising_stars' 'oldcsgo' 'mlb' 'mls' 'smite' 'wnba' 'wwc' 'cfl'\n",
      " 'cws']\n"
     ]
    }
   ],
   "source": [
    "print(df['Sport'].unique())"
   ]
  },
  {
   "cell_type": "code",
   "execution_count": 20,
   "id": "4aa11f41",
   "metadata": {},
   "outputs": [],
   "source": [
    "df.to_excel('C:/Users/Home/Bets_By_Bob/clean_tableau_data.xlsx', index=False)"
   ]
  },
  {
   "cell_type": "code",
   "execution_count": null,
   "id": "a406243c",
   "metadata": {},
   "outputs": [],
   "source": []
  },
  {
   "cell_type": "code",
   "execution_count": null,
   "id": "81e0241e",
   "metadata": {},
   "outputs": [],
   "source": []
  }
 ],
 "metadata": {
  "kernelspec": {
   "display_name": "PythonData",
   "language": "python",
   "name": "pythondata"
  },
  "language_info": {
   "codemirror_mode": {
    "name": "ipython",
    "version": 3
   },
   "file_extension": ".py",
   "mimetype": "text/x-python",
   "name": "python",
   "nbconvert_exporter": "python",
   "pygments_lexer": "ipython3",
   "version": "3.9.12"
  }
 },
 "nbformat": 4,
 "nbformat_minor": 5
}
